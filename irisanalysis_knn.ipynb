
In [3]:

import pandas as pd
import numpy as np
import matplotlib.pyplot as plt
from sklearn.cross_validation import train_test_split
from sklearn.neighbors import KNeighborsClassifier
from sklearn.metrics import accuracy_score
%matplotlib inline
import warnings
warnings.filterwarnings("ignore")

C:\Users\saurav\Miniconda3\lib\site-packages\sklearn\cross_validation.py:41: DeprecationWarning: This module was deprecated in version 0.18 in favor of the model_selection module into which all the refactored classes and functions are moved. Also note that the interface of the new CV iterators are different from that of this module. This module will be removed in 0.20.
  "This module will be removed in 0.20.", DeprecationWarning)

In [62]:

iris_data=pd.read_csv("C:/Users/saurav/Desktop/code_stack_python/Iris Project/Iris.csv")
iris_data.head(60)

Out[62]:
	Id 	SepalLengthCm 	SepalWidthCm 	PetalLengthCm 	PetalWidthCm 	Species
0 	1 	5.1 	3.5 	1.4 	0.2 	Iris-setosa
1 	2 	4.9 	3.0 	1.4 	0.2 	Iris-setosa
2 	3 	4.7 	3.2 	1.3 	0.2 	Iris-setosa
3 	4 	4.6 	3.1 	1.5 	0.2 	Iris-setosa
4 	5 	5.0 	3.6 	1.4 	0.2 	Iris-setosa
5 	6 	5.4 	3.9 	1.7 	0.4 	Iris-setosa
6 	7 	4.6 	3.4 	1.4 	0.3 	Iris-setosa
7 	8 	5.0 	3.4 	1.5 	0.2 	Iris-setosa
8 	9 	4.4 	2.9 	1.4 	0.2 	Iris-setosa
9 	10 	4.9 	3.1 	1.5 	0.1 	Iris-setosa
10 	11 	5.4 	3.7 	1.5 	0.2 	Iris-setosa
11 	12 	4.8 	3.4 	1.6 	0.2 	Iris-setosa
12 	13 	4.8 	3.0 	1.4 	0.1 	Iris-setosa
13 	14 	4.3 	3.0 	1.1 	0.1 	Iris-setosa
14 	15 	5.8 	4.0 	1.2 	0.2 	Iris-setosa
15 	16 	5.7 	4.4 	1.5 	0.4 	Iris-setosa
16 	17 	5.4 	3.9 	1.3 	0.4 	Iris-setosa
17 	18 	5.1 	3.5 	1.4 	0.3 	Iris-setosa
18 	19 	5.7 	3.8 	1.7 	0.3 	Iris-setosa
19 	20 	5.1 	3.8 	1.5 	0.3 	Iris-setosa
20 	21 	5.4 	3.4 	1.7 	0.2 	Iris-setosa
21 	22 	5.1 	3.7 	1.5 	0.4 	Iris-setosa
22 	23 	4.6 	3.6 	1.0 	0.2 	Iris-setosa
23 	24 	5.1 	3.3 	1.7 	0.5 	Iris-setosa
24 	25 	4.8 	3.4 	1.9 	0.2 	Iris-setosa
25 	26 	5.0 	3.0 	1.6 	0.2 	Iris-setosa
26 	27 	5.0 	3.4 	1.6 	0.4 	Iris-setosa
27 	28 	5.2 	3.5 	1.5 	0.2 	Iris-setosa
28 	29 	5.2 	3.4 	1.4 	0.2 	Iris-setosa
29 	30 	4.7 	3.2 	1.6 	0.2 	Iris-setosa
30 	31 	4.8 	3.1 	1.6 	0.2 	Iris-setosa
31 	32 	5.4 	3.4 	1.5 	0.4 	Iris-setosa
32 	33 	5.2 	4.1 	1.5 	0.1 	Iris-setosa
33 	34 	5.5 	4.2 	1.4 	0.2 	Iris-setosa
34 	35 	4.9 	3.1 	1.5 	0.1 	Iris-setosa
35 	36 	5.0 	3.2 	1.2 	0.2 	Iris-setosa
36 	37 	5.5 	3.5 	1.3 	0.2 	Iris-setosa
37 	38 	4.9 	3.1 	1.5 	0.1 	Iris-setosa
38 	39 	4.4 	3.0 	1.3 	0.2 	Iris-setosa
39 	40 	5.1 	3.4 	1.5 	0.2 	Iris-setosa
40 	41 	5.0 	3.5 	1.3 	0.3 	Iris-setosa
41 	42 	4.5 	2.3 	1.3 	0.3 	Iris-setosa
42 	43 	4.4 	3.2 	1.3 	0.2 	Iris-setosa
43 	44 	5.0 	3.5 	1.6 	0.6 	Iris-setosa
44 	45 	5.1 	3.8 	1.9 	0.4 	Iris-setosa
45 	46 	4.8 	3.0 	1.4 	0.3 	Iris-setosa
46 	47 	5.1 	3.8 	1.6 	0.2 	Iris-setosa
47 	48 	4.6 	3.2 	1.4 	0.2 	Iris-setosa
48 	49 	5.3 	3.7 	1.5 	0.2 	Iris-setosa
49 	50 	5.0 	3.3 	1.4 	0.2 	Iris-setosa
50 	51 	7.0 	3.2 	4.7 	1.4 	Iris-versicolor
51 	52 	6.4 	3.2 	4.5 	1.5 	Iris-versicolor
52 	53 	6.9 	3.1 	4.9 	1.5 	Iris-versicolor
53 	54 	5.5 	2.3 	4.0 	1.3 	Iris-versicolor
54 	55 	6.5 	2.8 	4.6 	1.5 	Iris-versicolor
55 	56 	5.7 	2.8 	4.5 	1.3 	Iris-versicolor
56 	57 	6.3 	3.3 	4.7 	1.6 	Iris-versicolor
57 	58 	4.9 	2.4 	3.3 	1.0 	Iris-versicolor
58 	59 	6.6 	2.9 	4.6 	1.3 	Iris-versicolor
59 	60 	5.2 	2.7 	3.9 	1.4 	Iris-versicolor
In [5]:

iris_data.describe()

Out[5]:
	Id 	SepalLengthCm 	SepalWidthCm 	PetalLengthCm 	PetalWidthCm
count 	150.000000 	150.000000 	150.000000 	150.000000 	150.000000
mean 	75.500000 	5.843333 	3.054000 	3.758667 	1.198667
std 	43.445368 	0.828066 	0.433594 	1.764420 	0.763161
min 	1.000000 	4.300000 	2.000000 	1.000000 	0.100000
25% 	38.250000 	5.100000 	2.800000 	1.600000 	0.300000
50% 	75.500000 	5.800000 	3.000000 	4.350000 	1.300000
75% 	112.750000 	6.400000 	3.300000 	5.100000 	1.800000
max 	150.000000 	7.900000 	4.400000 	6.900000 	2.500000
In [6]:

##Designing the test set and train set

In [53]:

X = np.array(iris_data.ix[:, 0:4])
y = np.array(iris_data['Species'])
# split into train and test
X_train, X_test, y_train, y_test = train_test_split(X, y, test_size=0.6, random_state=3)

In [58]:

# Working for a given value of K ----> number neighbours
#model = KNeighborsClassifier(n_neighbors=9)
# fitting the model
#model.fit(X_train, y_train)
#pred= model.predict(X_test)
#print(accuracy_score(y_test,pred))

In [66]:

neighRange = range(1,30)
# We can create Python dictionary using [] or dict()
scores = []
for k in neighRange:
    model = KNeighborsClassifier(n_neighbors=k)
    model.fit(X_train, y_train)
    pred = model.predict(X_test)
    scores.append(accuracy_score(y_test, pred))
    
print(scores)
## For predicting anonymous model
model.predict([[5.0,3.3,1.4,0.2]])

[0.97777777777777775, 0.9555555555555556, 0.98888888888888893, 0.96666666666666667, 0.98888888888888893, 0.96666666666666667, 0.97777777777777775, 0.96666666666666667, 1.0, 1.0, 0.97777777777777775, 0.97777777777777775, 1.0, 0.98888888888888893, 1.0, 0.98888888888888893, 1.0, 0.98888888888888893, 0.97777777777777775, 0.97777777777777775, 1.0, 0.97777777777777775, 0.96666666666666667, 0.96666666666666667, 0.97777777777777775, 0.97777777777777775, 0.97777777777777775, 0.94444444444444442, 0.94444444444444442]

Out[66]:

array(['Iris-setosa'], dtype=object)

In [67]:

#Recording the missclassification errors
missClass = [1 - x for x in scores]

# determining best k
optimal_k = neighRange[missClass.index(min(missClass))]
print("The optimal number of neighbors is %d" % optimal_k)

The optimal number of neighbors is 9

In [68]:

plt.plot(neighRange, scores)
plt.xlabel('Value of K for KNN')
plt.ylabel('Testing Accuracy')

Out[68]:

Text(0,0.5,'Testing Accuracy')




