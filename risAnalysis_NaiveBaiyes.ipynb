
In [68]:

import pandas as pd
import numpy as np
from matplotlib import pyplot as plt
#import plotly.plotly as py
#import plotly.graph_objs as go
#from sklearn import datasets
from sklearn.decomposition import PCA
from sklearn.naive_bayes import GaussianNB

In [69]:

iris=pd.read_csv("C:/Users/saurav/Desktop/code_stack_python/Iris Project/Iris.csv")
iris.head(10)

Out[69]:
	Id 	SepalLengthCm 	SepalWidthCm 	PetalLengthCm 	PetalWidthCm 	Species
0 	1 	5.1 	3.5 	1.4 	0.2 	Iris-setosa
1 	2 	4.9 	3.0 	1.4 	0.2 	Iris-setosa
2 	3 	4.7 	3.2 	1.3 	0.2 	Iris-setosa
3 	4 	4.6 	3.1 	1.5 	0.2 	Iris-setosa
4 	5 	5.0 	3.6 	1.4 	0.2 	Iris-setosa
5 	6 	5.4 	3.9 	1.7 	0.4 	Iris-setosa
6 	7 	4.6 	3.4 	1.4 	0.3 	Iris-setosa
7 	8 	5.0 	3.4 	1.5 	0.2 	Iris-setosa
8 	9 	4.4 	2.9 	1.4 	0.2 	Iris-setosa
9 	10 	4.9 	3.1 	1.5 	0.1 	Iris-setosa
In [70]:

X=iris.iloc[:,:4].values
y=iris['Species'].values

In [71]:

print(y)
print(X)

['Iris-setosa' 'Iris-setosa' 'Iris-setosa' 'Iris-setosa' 'Iris-setosa'
 'Iris-setosa' 'Iris-setosa' 'Iris-setosa' 'Iris-setosa' 'Iris-setosa'
 'Iris-setosa' 'Iris-setosa' 'Iris-setosa' 'Iris-setosa' 'Iris-setosa'
 'Iris-setosa' 'Iris-setosa' 'Iris-setosa' 'Iris-setosa' 'Iris-setosa'
 'Iris-setosa' 'Iris-setosa' 'Iris-setosa' 'Iris-setosa' 'Iris-setosa'
 'Iris-setosa' 'Iris-setosa' 'Iris-setosa' 'Iris-setosa' 'Iris-setosa'
 'Iris-setosa' 'Iris-setosa' 'Iris-setosa' 'Iris-setosa' 'Iris-setosa'
 'Iris-setosa' 'Iris-setosa' 'Iris-setosa' 'Iris-setosa' 'Iris-setosa'
 'Iris-setosa' 'Iris-setosa' 'Iris-setosa' 'Iris-setosa' 'Iris-setosa'
 'Iris-setosa' 'Iris-setosa' 'Iris-setosa' 'Iris-setosa' 'Iris-setosa'
 'Iris-versicolor' 'Iris-versicolor' 'Iris-versicolor' 'Iris-versicolor'
 'Iris-versicolor' 'Iris-versicolor' 'Iris-versicolor' 'Iris-versicolor'
 'Iris-versicolor' 'Iris-versicolor' 'Iris-versicolor' 'Iris-versicolor'
 'Iris-versicolor' 'Iris-versicolor' 'Iris-versicolor' 'Iris-versicolor'
 'Iris-versicolor' 'Iris-versicolor' 'Iris-versicolor' 'Iris-versicolor'
 'Iris-versicolor' 'Iris-versicolor' 'Iris-versicolor' 'Iris-versicolor'
 'Iris-versicolor' 'Iris-versicolor' 'Iris-versicolor' 'Iris-versicolor'
 'Iris-versicolor' 'Iris-versicolor' 'Iris-versicolor' 'Iris-versicolor'
 'Iris-versicolor' 'Iris-versicolor' 'Iris-versicolor' 'Iris-versicolor'
 'Iris-versicolor' 'Iris-versicolor' 'Iris-versicolor' 'Iris-versicolor'
 'Iris-versicolor' 'Iris-versicolor' 'Iris-versicolor' 'Iris-versicolor'
 'Iris-versicolor' 'Iris-versicolor' 'Iris-versicolor' 'Iris-versicolor'
 'Iris-versicolor' 'Iris-versicolor' 'Iris-virginica' 'Iris-virginica'
 'Iris-virginica' 'Iris-virginica' 'Iris-virginica' 'Iris-virginica'
 'Iris-virginica' 'Iris-virginica' 'Iris-virginica' 'Iris-virginica'
 'Iris-virginica' 'Iris-virginica' 'Iris-virginica' 'Iris-virginica'
 'Iris-virginica' 'Iris-virginica' 'Iris-virginica' 'Iris-virginica'
 'Iris-virginica' 'Iris-virginica' 'Iris-virginica' 'Iris-virginica'
 'Iris-virginica' 'Iris-virginica' 'Iris-virginica' 'Iris-virginica'
 'Iris-virginica' 'Iris-virginica' 'Iris-virginica' 'Iris-virginica'
 'Iris-virginica' 'Iris-virginica' 'Iris-virginica' 'Iris-virginica'
 'Iris-virginica' 'Iris-virginica' 'Iris-virginica' 'Iris-virginica'
 'Iris-virginica' 'Iris-virginica' 'Iris-virginica' 'Iris-virginica'
 'Iris-virginica' 'Iris-virginica' 'Iris-virginica' 'Iris-virginica'
 'Iris-virginica' 'Iris-virginica' 'Iris-virginica' 'Iris-virginica']
[[   1.     5.1    3.5    1.4]
 [   2.     4.9    3.     1.4]
 [   3.     4.7    3.2    1.3]
 [   4.     4.6    3.1    1.5]
 [   5.     5.     3.6    1.4]
 [   6.     5.4    3.9    1.7]
 [   7.     4.6    3.4    1.4]
 [   8.     5.     3.4    1.5]
 [   9.     4.4    2.9    1.4]
 [  10.     4.9    3.1    1.5]
 [  11.     5.4    3.7    1.5]
 [  12.     4.8    3.4    1.6]
 [  13.     4.8    3.     1.4]
 [  14.     4.3    3.     1.1]
 [  15.     5.8    4.     1.2]
 [  16.     5.7    4.4    1.5]
 [  17.     5.4    3.9    1.3]
 [  18.     5.1    3.5    1.4]
 [  19.     5.7    3.8    1.7]
 [  20.     5.1    3.8    1.5]
 [  21.     5.4    3.4    1.7]
 [  22.     5.1    3.7    1.5]
 [  23.     4.6    3.6    1. ]
 [  24.     5.1    3.3    1.7]
 [  25.     4.8    3.4    1.9]
 [  26.     5.     3.     1.6]
 [  27.     5.     3.4    1.6]
 [  28.     5.2    3.5    1.5]
 [  29.     5.2    3.4    1.4]
 [  30.     4.7    3.2    1.6]
 [  31.     4.8    3.1    1.6]
 [  32.     5.4    3.4    1.5]
 [  33.     5.2    4.1    1.5]
 [  34.     5.5    4.2    1.4]
 [  35.     4.9    3.1    1.5]
 [  36.     5.     3.2    1.2]
 [  37.     5.5    3.5    1.3]
 [  38.     4.9    3.1    1.5]
 [  39.     4.4    3.     1.3]
 [  40.     5.1    3.4    1.5]
 [  41.     5.     3.5    1.3]
 [  42.     4.5    2.3    1.3]
 [  43.     4.4    3.2    1.3]
 [  44.     5.     3.5    1.6]
 [  45.     5.1    3.8    1.9]
 [  46.     4.8    3.     1.4]
 [  47.     5.1    3.8    1.6]
 [  48.     4.6    3.2    1.4]
 [  49.     5.3    3.7    1.5]
 [  50.     5.     3.3    1.4]
 [  51.     7.     3.2    4.7]
 [  52.     6.4    3.2    4.5]
 [  53.     6.9    3.1    4.9]
 [  54.     5.5    2.3    4. ]
 [  55.     6.5    2.8    4.6]
 [  56.     5.7    2.8    4.5]
 [  57.     6.3    3.3    4.7]
 [  58.     4.9    2.4    3.3]
 [  59.     6.6    2.9    4.6]
 [  60.     5.2    2.7    3.9]
 [  61.     5.     2.     3.5]
 [  62.     5.9    3.     4.2]
 [  63.     6.     2.2    4. ]
 [  64.     6.1    2.9    4.7]
 [  65.     5.6    2.9    3.6]
 [  66.     6.7    3.1    4.4]
 [  67.     5.6    3.     4.5]
 [  68.     5.8    2.7    4.1]
 [  69.     6.2    2.2    4.5]
 [  70.     5.6    2.5    3.9]
 [  71.     5.9    3.2    4.8]
 [  72.     6.1    2.8    4. ]
 [  73.     6.3    2.5    4.9]
 [  74.     6.1    2.8    4.7]
 [  75.     6.4    2.9    4.3]
 [  76.     6.6    3.     4.4]
 [  77.     6.8    2.8    4.8]
 [  78.     6.7    3.     5. ]
 [  79.     6.     2.9    4.5]
 [  80.     5.7    2.6    3.5]
 [  81.     5.5    2.4    3.8]
 [  82.     5.5    2.4    3.7]
 [  83.     5.8    2.7    3.9]
 [  84.     6.     2.7    5.1]
 [  85.     5.4    3.     4.5]
 [  86.     6.     3.4    4.5]
 [  87.     6.7    3.1    4.7]
 [  88.     6.3    2.3    4.4]
 [  89.     5.6    3.     4.1]
 [  90.     5.5    2.5    4. ]
 [  91.     5.5    2.6    4.4]
 [  92.     6.1    3.     4.6]
 [  93.     5.8    2.6    4. ]
 [  94.     5.     2.3    3.3]
 [  95.     5.6    2.7    4.2]
 [  96.     5.7    3.     4.2]
 [  97.     5.7    2.9    4.2]
 [  98.     6.2    2.9    4.3]
 [  99.     5.1    2.5    3. ]
 [ 100.     5.7    2.8    4.1]
 [ 101.     6.3    3.3    6. ]
 [ 102.     5.8    2.7    5.1]
 [ 103.     7.1    3.     5.9]
 [ 104.     6.3    2.9    5.6]
 [ 105.     6.5    3.     5.8]
 [ 106.     7.6    3.     6.6]
 [ 107.     4.9    2.5    4.5]
 [ 108.     7.3    2.9    6.3]
 [ 109.     6.7    2.5    5.8]
 [ 110.     7.2    3.6    6.1]
 [ 111.     6.5    3.2    5.1]
 [ 112.     6.4    2.7    5.3]
 [ 113.     6.8    3.     5.5]
 [ 114.     5.7    2.5    5. ]
 [ 115.     5.8    2.8    5.1]
 [ 116.     6.4    3.2    5.3]
 [ 117.     6.5    3.     5.5]
 [ 118.     7.7    3.8    6.7]
 [ 119.     7.7    2.6    6.9]
 [ 120.     6.     2.2    5. ]
 [ 121.     6.9    3.2    5.7]
 [ 122.     5.6    2.8    4.9]
 [ 123.     7.7    2.8    6.7]
 [ 124.     6.3    2.7    4.9]
 [ 125.     6.7    3.3    5.7]
 [ 126.     7.2    3.2    6. ]
 [ 127.     6.2    2.8    4.8]
 [ 128.     6.1    3.     4.9]
 [ 129.     6.4    2.8    5.6]
 [ 130.     7.2    3.     5.8]
 [ 131.     7.4    2.8    6.1]
 [ 132.     7.9    3.8    6.4]
 [ 133.     6.4    2.8    5.6]
 [ 134.     6.3    2.8    5.1]
 [ 135.     6.1    2.6    5.6]
 [ 136.     7.7    3.     6.1]
 [ 137.     6.3    3.4    5.6]
 [ 138.     6.4    3.1    5.5]
 [ 139.     6.     3.     4.8]
 [ 140.     6.9    3.1    5.4]
 [ 141.     6.7    3.1    5.6]
 [ 142.     6.9    3.1    5.1]
 [ 143.     5.8    2.7    5.1]
 [ 144.     6.8    3.2    5.9]
 [ 145.     6.7    3.3    5.7]
 [ 146.     6.7    3.     5.2]
 [ 147.     6.3    2.5    5. ]
 [ 148.     6.5    3.     5.2]
 [ 149.     6.2    3.4    5.4]
 [ 150.     5.9    3.     5.1]]

In [144]:

from sklearn.datasets import load_iris
iris = load_iris()

from matplotlib import pyplot as plt

# The indices of the features that we are plotting
x_index = 0
y_index = 1

# this formatter will label the colorbar with the correct target names
formatter = plt.FuncFormatter(lambda i, *args: iris.target_names[int(i)])

plt.figure(figsize=(8, 8))
plt.scatter(iris.data[:, x_index], iris.data[:, y_index], c=iris.target)
plt.colorbar(ticks=[0, 1, 2], format=formatter)
plt.xlabel(iris.feature_names[x_index])
plt.ylabel(iris.feature_names[y_index])

plt.tight_layout()
plt.show()

In [177]:

### SPLITTING INTO TRAINING AND TEST SETS
from sklearn.model_selection import train_test_split
X_train, X_test, y_train, y_test = train_test_split(X, y, test_size = 0.25,random_state=28)

In [178]:

### NORMALIZTION / FEATURE SCALING
from sklearn.preprocessing import StandardScaler
sc=StandardScaler()
X_train = sc.fit_transform(X_train)
X_test = sc.transform(X_test)

In [179]:

### WE WILL FIT THE THE CLASSIFIER TO THE TRAINING SET
naiveClassifier=GaussianNB()
naiveClassifier.fit(X_train,y_train)

Out[179]:

GaussianNB(priors=None)

In [180]:

y_pred = naiveClassifier.predict(X_test)

In [181]:

#Keeping the actual and predicted value side by side
y_compare = np.vstack((y_test,y_pred)).T
#Actual->LEFT
#predicted->RIGHT
#Number of values to be print
y_compare[:20,:]

Out[181]:

array([['Iris-setosa', 'Iris-setosa'],
       ['Iris-virginica', 'Iris-virginica'],
       ['Iris-versicolor', 'Iris-versicolor'],
       ['Iris-setosa', 'Iris-setosa'],
       ['Iris-virginica', 'Iris-virginica'],
       ['Iris-versicolor', 'Iris-versicolor'],
       ['Iris-virginica', 'Iris-virginica'],
       ['Iris-versicolor', 'Iris-versicolor'],
       ['Iris-versicolor', 'Iris-versicolor'],
       ['Iris-setosa', 'Iris-setosa'],
       ['Iris-virginica', 'Iris-versicolor'],
       ['Iris-setosa', 'Iris-setosa'],
       ['Iris-versicolor', 'Iris-versicolor'],
       ['Iris-versicolor', 'Iris-versicolor'],
       ['Iris-virginica', 'Iris-virginica'],
       ['Iris-setosa', 'Iris-setosa'],
       ['Iris-virginica', 'Iris-virginica'],
       ['Iris-virginica', 'Iris-virginica'],
       ['Iris-virginica', 'Iris-virginica'],
       ['Iris-versicolor', 'Iris-versicolor']], dtype=object)

In [182]:

%matplotlib inline
plt.scatter(y_test, y_pred)
plt.xlabel("ACTUAL VALUES")
plt.ylabel("PREDICTED")

Out[182]:

Text(0,0.5,'PREDICTED')

In [183]:

# Making the Confusion Matrix
from sklearn.metrics import confusion_matrix
cm = confusion_matrix(y_test, y_pred)
print(cm)

[[11  0  0]
 [ 0 15  0]
 [ 0  1 11]]

In [184]:

#finding accuracy from the confusion matrix.
a = cm.shape
correctPrediction = 0
falsePrediction = 0

for row in range(a[0]):
    for c in range(a[1]):
        if row == c:
            correctPrediction +=cm[row,c]
        else:
            falsePrediction += cm[row,c]
print('Correct predictions: ', correctPrediction)
print('False predictions', falsePrediction)
print ('\n\nAccuracy of the Naive Bayes Clasification is: ', correctPrediction/(cm.sum()))

Correct predictions:  37
False predictions 1


Accuracy of the Naive Bayes Clasification is:  0.973684210526

